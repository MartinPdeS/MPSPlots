{
  "cells": [
    {
      "cell_type": "code",
      "execution_count": null,
      "metadata": {
        "collapsed": false
      },
      "outputs": [],
      "source": [
        "%matplotlib inline"
      ]
    },
    {
      "cell_type": "markdown",
      "metadata": {},
      "source": [
        "\n# Mesh - Matrix\n"
      ]
    },
    {
      "cell_type": "code",
      "execution_count": null,
      "metadata": {
        "collapsed": false
      },
      "outputs": [],
      "source": [
        "import numpy\nfrom MPSPlots.Render2D import SceneMatrix\n\nx, y, = numpy.mgrid[0:100, 0:100]\n\nfigure = SceneMatrix(\n    unit_size=(4, 2),\n    title='random data simple lines'\n)\n\nax_0 = figure.append_ax(\n    row=0,\n    column=0,\n    x_label='x data',\n    y_label='y data',\n    show_legend=False\n)\n\nax_1 = figure.append_ax(\n    row=1,\n    column=0,\n    x_label='x data',\n    y_label='y data',\n    show_legend=False\n)\n\n\nax_2 = figure.append_ax(\n    row=1,\n    column=1,\n    x_label='x data',\n    y_label='y data',\n    show_legend=False\n)\n\n_ = ax_0.add_mesh(\n    scalar=x + y,\n    x=x,\n    y=y,\n    show_colorbar=True\n)\n\n_ = ax_1.add_mesh(\n    scalar=(x - 50)**2 + (y - 50)**2,\n    x=x,\n    y=y,\n    show_colorbar=True\n)\n\n_ = ax_2.add_mesh(\n    scalar=x**2 + y**2,\n    x=x,\n    y=y,\n    show_colorbar=True\n)\n\n\nfigure.show_colorbar = False\n\n_ = figure.show()\n\n# -"
      ]
    }
  ],
  "metadata": {
    "kernelspec": {
      "display_name": "Python 3",
      "language": "python",
      "name": "python3"
    },
    "language_info": {
      "codemirror_mode": {
        "name": "ipython",
        "version": 3
      },
      "file_extension": ".py",
      "mimetype": "text/x-python",
      "name": "python",
      "nbconvert_exporter": "python",
      "pygments_lexer": "ipython3",
      "version": "3.10.9"
    }
  },
  "nbformat": 4,
  "nbformat_minor": 0
}