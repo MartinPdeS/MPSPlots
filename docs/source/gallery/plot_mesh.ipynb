{
  "cells": [
    {
      "cell_type": "code",
      "execution_count": null,
      "metadata": {
        "collapsed": false
      },
      "outputs": [],
      "source": [
        "%matplotlib inline"
      ]
    },
    {
      "cell_type": "markdown",
      "metadata": {},
      "source": [
        "\n# Mesh - Line\n"
      ]
    },
    {
      "cell_type": "code",
      "execution_count": null,
      "metadata": {
        "collapsed": false
      },
      "outputs": [],
      "source": [
        "import numpy\nfrom MPSPlots.Render2D import SceneList\n\nx, y, = numpy.mgrid[0:100, 0:100]\n\nfigure = SceneList(\n    unit_size=(8, 4),\n    title='random data simple lines'\n)\n\nax_0 = figure.append_ax(\n    x_label='x data',\n    y_label='y data',\n    show_legend=False\n)\n\nax_1 = figure.append_ax(\n    x_label='x data',\n    y_label='y data',\n    show_legend=False\n)\n\nartist_0 = ax_0.add_mesh(\n    scalar=x + y,\n    x=x,\n    y=y,\n    show_colorbar=True\n)\n\n\nartist_1 = ax_1.add_mesh(\n    scalar=x**2,\n    x=x,\n    y=y,\n    show_colorbar=True\n)\n\n_ = figure.show()\n\n# -"
      ]
    }
  ],
  "metadata": {
    "kernelspec": {
      "display_name": "Python 3",
      "language": "python",
      "name": "python3"
    },
    "language_info": {
      "codemirror_mode": {
        "name": "ipython",
        "version": 3
      },
      "file_extension": ".py",
      "mimetype": "text/x-python",
      "name": "python",
      "nbconvert_exporter": "python",
      "pygments_lexer": "ipython3",
      "version": "3.10.9"
    }
  },
  "nbformat": 4,
  "nbformat_minor": 0
}