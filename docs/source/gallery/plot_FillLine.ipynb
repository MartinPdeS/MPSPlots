{
  "cells": [
    {
      "cell_type": "code",
      "execution_count": null,
      "metadata": {
        "collapsed": false
      },
      "outputs": [],
      "source": [
        "%matplotlib inline"
      ]
    },
    {
      "cell_type": "markdown",
      "metadata": {},
      "source": [
        "\n# Fill Line\n"
      ]
    },
    {
      "cell_type": "code",
      "execution_count": null,
      "metadata": {
        "collapsed": false
      },
      "outputs": [],
      "source": [
        "import numpy\nfrom MPSPlots.Render2D import Scene2D, Axis, FillLine\n\n\nx = numpy.arange(100)\ny0 = numpy.random.rand(100) + x\ny1 = numpy.random.rand(100) - x\n\nfigure = Scene2D(\n    unit_size=(8, 4),\n    title='random data simple lines'\n)\n\nax = Axis(\n    row=0,\n    col=0,\n    x_label='x data',\n    y_label='y data',\n    show_legend=True\n)\n\nfigure.add_axes(ax)\n\nartist_0 = FillLine(\n    x=x,\n    y0=y0,\n    y1=y1,\n    label='Fill between lines',\n    show_outline=True\n)\n\n_ = ax.add_artist(artist_0)\n\n_ = figure.show()"
      ]
    }
  ],
  "metadata": {
    "kernelspec": {
      "display_name": "Python 3",
      "language": "python",
      "name": "python3"
    },
    "language_info": {
      "codemirror_mode": {
        "name": "ipython",
        "version": 3
      },
      "file_extension": ".py",
      "mimetype": "text/x-python",
      "name": "python",
      "nbconvert_exporter": "python",
      "pygments_lexer": "ipython3",
      "version": "3.10.9"
    }
  },
  "nbformat": 4,
  "nbformat_minor": 0
}