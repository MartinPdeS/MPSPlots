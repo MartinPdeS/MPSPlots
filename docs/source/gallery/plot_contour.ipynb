{
  "cells": [
    {
      "cell_type": "code",
      "execution_count": null,
      "metadata": {
        "collapsed": false
      },
      "outputs": [],
      "source": [
        "%matplotlib inline"
      ]
    },
    {
      "cell_type": "markdown",
      "metadata": {},
      "source": [
        "\n# Mesh\n"
      ]
    },
    {
      "cell_type": "code",
      "execution_count": null,
      "metadata": {
        "collapsed": false
      },
      "outputs": [],
      "source": [
        "import numpy\nfrom MPSPlots.Render2D import SceneList\n\nx_grid, y_grid = numpy.mgrid[0:100, 0:100]\nscalar = x_grid**2 + y_grid**2\n\nfigure = SceneList(\n    unit_size=(8, 4),\n    title='random data contour line'\n)\n\nax = figure.append_ax(\n    x_label='x data',\n    y_label='y data',\n    show_legend=False\n)\n\n_ = ax.add_contour(\n    scalar=scalar,\n    x=x_grid,\n    y=y_grid,\n    iso_values=0.1\n)\n\n_ = figure.show()\n\n# -"
      ]
    }
  ],
  "metadata": {
    "kernelspec": {
      "display_name": "Python 3",
      "language": "python",
      "name": "python3"
    },
    "language_info": {
      "codemirror_mode": {
        "name": "ipython",
        "version": 3
      },
      "file_extension": ".py",
      "mimetype": "text/x-python",
      "name": "python",
      "nbconvert_exporter": "python",
      "pygments_lexer": "ipython3",
      "version": "3.10.9"
    }
  },
  "nbformat": 4,
  "nbformat_minor": 0
}