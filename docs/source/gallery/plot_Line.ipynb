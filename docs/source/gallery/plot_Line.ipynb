{
  "cells": [
    {
      "cell_type": "code",
      "execution_count": null,
      "metadata": {
        "collapsed": false
      },
      "outputs": [],
      "source": [
        "%matplotlib inline"
      ]
    },
    {
      "cell_type": "markdown",
      "metadata": {},
      "source": [
        "\n# Simple Line\n"
      ]
    },
    {
      "cell_type": "code",
      "execution_count": null,
      "metadata": {
        "collapsed": false
      },
      "outputs": [],
      "source": [
        "import numpy\nfrom MPSPlots.Render2D import SceneList\n\n\nx = numpy.arange(100)\ny0 = numpy.random.rand(100)\ny1 = numpy.random.rand(100)\n\nfigure = SceneList(\n    unit_size=(8, 4),\n    title='random data simple lines'\n)\n\nax = figure.append_ax(\n    x_label='x data',\n    y_label='y data',\n    show_legend=True,\n    line_width=2\n)\n\n_ = ax.add_line(x=x, y=y0, label='line 0', color='blue')\n_ = ax.add_line(x=x, y=y1, label='line 1', color='red')\n\n_ = figure.show()"
      ]
    }
  ],
  "metadata": {
    "kernelspec": {
      "display_name": "Python 3",
      "language": "python",
      "name": "python3"
    },
    "language_info": {
      "codemirror_mode": {
        "name": "ipython",
        "version": 3
      },
      "file_extension": ".py",
      "mimetype": "text/x-python",
      "name": "python",
      "nbconvert_exporter": "python",
      "pygments_lexer": "ipython3",
      "version": "3.10.9"
    }
  },
  "nbformat": 4,
  "nbformat_minor": 0
}