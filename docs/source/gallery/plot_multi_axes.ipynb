{
  "cells": [
    {
      "cell_type": "code",
      "execution_count": null,
      "metadata": {
        "collapsed": false
      },
      "outputs": [],
      "source": [
        "%matplotlib inline"
      ]
    },
    {
      "cell_type": "markdown",
      "metadata": {},
      "source": [
        "\n# Multi ax\n"
      ]
    },
    {
      "cell_type": "code",
      "execution_count": null,
      "metadata": {
        "collapsed": false
      },
      "outputs": [],
      "source": [
        "import numpy\nfrom MPSPlots.Render2D import SceneList\n\n\nx = numpy.arange(100)\ny0 = numpy.random.rand(100) + x\ny1 = numpy.random.rand(100) - x\n\nfigure = SceneList(\n    unit_size=(8, 4),\n    title='random data simple lines'\n)\n\nax0 = figure.append_ax(\n    x_label='x data',\n    y_label='y data',\n    show_legend=True,\n    equal_limits=True,\n    water_mark='yoyo'\n)\n\nax1 = figure.append_ax(\n    x_label='x data',\n    y_label='y data',\n    show_legend=True\n)\n\n_ = ax0.add_fill_line(\n    x=x,\n    y0=y0,\n    y1=y1,\n    label='Fill between lines',\n    show_outline=True\n)\n\n_ = ax1.add_fill_line(\n    x=x,\n    y0=y0,\n    y1=y1,\n    label='Fill between lines',\n    show_outline=False,\n    color='red'\n)\n\n_ = figure.show()"
      ]
    }
  ],
  "metadata": {
    "kernelspec": {
      "display_name": "Python 3",
      "language": "python",
      "name": "python3"
    },
    "language_info": {
      "codemirror_mode": {
        "name": "ipython",
        "version": 3
      },
      "file_extension": ".py",
      "mimetype": "text/x-python",
      "name": "python",
      "nbconvert_exporter": "python",
      "pygments_lexer": "ipython3",
      "version": "3.10.9"
    }
  },
  "nbformat": 4,
  "nbformat_minor": 0
}