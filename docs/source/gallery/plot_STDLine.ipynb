{
  "cells": [
    {
      "cell_type": "code",
      "execution_count": null,
      "metadata": {
        "collapsed": false
      },
      "outputs": [],
      "source": [
        "%matplotlib inline"
      ]
    },
    {
      "cell_type": "markdown",
      "metadata": {},
      "source": [
        "\n# STD line\n"
      ]
    },
    {
      "cell_type": "code",
      "execution_count": null,
      "metadata": {
        "collapsed": false
      },
      "outputs": [],
      "source": [
        "import numpy\nfrom MPSPlots.Render2D import SceneList\n\n\nx = numpy.arange(100)\ny = numpy.random.rand(10, 100)\ny_mean = numpy.mean(y, axis=0)\ny_std = numpy.std(y, axis=0)\n\nfigure = SceneList(\n    unit_size=(8, 4),\n    title='random data simple lines'\n)\n\nax = figure.append_ax(\n    x_label='x data',\n    y_label='y data',\n    show_legend=True\n)\n\n_ = ax.add_std_line(\n    x=x,\n    y_mean=y_mean,\n    y_std=y_std,\n    label='Fill between lines',\n)\n\n_ = figure.show()"
      ]
    }
  ],
  "metadata": {
    "kernelspec": {
      "display_name": "Python 3",
      "language": "python",
      "name": "python3"
    },
    "language_info": {
      "codemirror_mode": {
        "name": "ipython",
        "version": 3
      },
      "file_extension": ".py",
      "mimetype": "text/x-python",
      "name": "python",
      "nbconvert_exporter": "python",
      "pygments_lexer": "ipython3",
      "version": "3.10.9"
    }
  },
  "nbformat": 4,
  "nbformat_minor": 0
}